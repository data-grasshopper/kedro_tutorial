{
 "cells": [
  {
   "cell_type": "code",
   "execution_count": 1,
   "metadata": {},
   "outputs": [
    {
     "name": "stdout",
     "output_type": "stream",
     "text": [
      "2020-03-18 12:54:06,263 - root - ERROR - Kedro's ipython session startup script failed:\n",
      "Given configuration path either does not exist or is not a valid directory: conf/base\n"
     ]
    },
    {
     "ename": "ValueError",
     "evalue": "Given configuration path either does not exist or is not a valid directory: conf/base",
     "output_type": "error",
     "traceback": [
      "\u001b[1;31m---------------------------------------------------------------------------\u001b[0m",
      "\u001b[1;31mValueError\u001b[0m                                Traceback (most recent call last)",
      "\u001b[1;32m<ipython-input-1-abfcd54c960b>\u001b[0m in \u001b[0;36m<module>\u001b[1;34m\u001b[0m\n\u001b[1;32m----> 1\u001b[1;33m \u001b[0mget_ipython\u001b[0m\u001b[1;33m(\u001b[0m\u001b[1;33m)\u001b[0m\u001b[1;33m.\u001b[0m\u001b[0mrun_line_magic\u001b[0m\u001b[1;33m(\u001b[0m\u001b[1;34m'reload_kedro'\u001b[0m\u001b[1;33m,\u001b[0m \u001b[1;34m''\u001b[0m\u001b[1;33m)\u001b[0m\u001b[1;33m\u001b[0m\u001b[1;33m\u001b[0m\u001b[0m\n\u001b[0m",
      "\u001b[1;32m~\\Continuum\\miniconda3\\envs\\kedro\\lib\\site-packages\\IPython\\core\\interactiveshell.py\u001b[0m in \u001b[0;36mrun_line_magic\u001b[1;34m(self, magic_name, line, _stack_depth)\u001b[0m\n\u001b[0;32m   2312\u001b[0m                 \u001b[0mkwargs\u001b[0m\u001b[1;33m[\u001b[0m\u001b[1;34m'local_ns'\u001b[0m\u001b[1;33m]\u001b[0m \u001b[1;33m=\u001b[0m \u001b[0msys\u001b[0m\u001b[1;33m.\u001b[0m\u001b[0m_getframe\u001b[0m\u001b[1;33m(\u001b[0m\u001b[0mstack_depth\u001b[0m\u001b[1;33m)\u001b[0m\u001b[1;33m.\u001b[0m\u001b[0mf_locals\u001b[0m\u001b[1;33m\u001b[0m\u001b[1;33m\u001b[0m\u001b[0m\n\u001b[0;32m   2313\u001b[0m             \u001b[1;32mwith\u001b[0m \u001b[0mself\u001b[0m\u001b[1;33m.\u001b[0m\u001b[0mbuiltin_trap\u001b[0m\u001b[1;33m:\u001b[0m\u001b[1;33m\u001b[0m\u001b[1;33m\u001b[0m\u001b[0m\n\u001b[1;32m-> 2314\u001b[1;33m                 \u001b[0mresult\u001b[0m \u001b[1;33m=\u001b[0m \u001b[0mfn\u001b[0m\u001b[1;33m(\u001b[0m\u001b[1;33m*\u001b[0m\u001b[0margs\u001b[0m\u001b[1;33m,\u001b[0m \u001b[1;33m**\u001b[0m\u001b[0mkwargs\u001b[0m\u001b[1;33m)\u001b[0m\u001b[1;33m\u001b[0m\u001b[1;33m\u001b[0m\u001b[0m\n\u001b[0m\u001b[0;32m   2315\u001b[0m             \u001b[1;32mreturn\u001b[0m \u001b[0mresult\u001b[0m\u001b[1;33m\u001b[0m\u001b[1;33m\u001b[0m\u001b[0m\n\u001b[0;32m   2316\u001b[0m \u001b[1;33m\u001b[0m\u001b[0m\n",
      "\u001b[1;32m~\\Projects\\kedro-tutorial\\.ipython\\profile_default\\startup\\00-kedro-init.py\u001b[0m in \u001b[0;36mreload_kedro\u001b[1;34m(project_path, line)\u001b[0m\n\u001b[0;32m     29\u001b[0m         \u001b[0mstartup_error\u001b[0m \u001b[1;33m=\u001b[0m \u001b[0merr\u001b[0m\u001b[1;33m\u001b[0m\u001b[1;33m\u001b[0m\u001b[0m\n\u001b[0;32m     30\u001b[0m         \u001b[0mlogging\u001b[0m\u001b[1;33m.\u001b[0m\u001b[0merror\u001b[0m\u001b[1;33m(\u001b[0m\u001b[1;34m\"Kedro's ipython session startup script failed:\\n%s\"\u001b[0m\u001b[1;33m,\u001b[0m \u001b[0mstr\u001b[0m\u001b[1;33m(\u001b[0m\u001b[0merr\u001b[0m\u001b[1;33m)\u001b[0m\u001b[1;33m)\u001b[0m\u001b[1;33m\u001b[0m\u001b[1;33m\u001b[0m\u001b[0m\n\u001b[1;32m---> 31\u001b[1;33m         \u001b[1;32mraise\u001b[0m \u001b[0merr\u001b[0m\u001b[1;33m\u001b[0m\u001b[1;33m\u001b[0m\u001b[0m\n\u001b[0m\u001b[0;32m     32\u001b[0m \u001b[1;33m\u001b[0m\u001b[0m\n\u001b[0;32m     33\u001b[0m \u001b[1;33m\u001b[0m\u001b[0m\n",
      "\u001b[1;32m~\\Projects\\kedro-tutorial\\.ipython\\profile_default\\startup\\00-kedro-init.py\u001b[0m in \u001b[0;36mreload_kedro\u001b[1;34m(project_path, line)\u001b[0m\n\u001b[0;32m     15\u001b[0m         \u001b[1;32mfrom\u001b[0m \u001b[0mkedro\u001b[0m\u001b[1;33m.\u001b[0m\u001b[0mcontext\u001b[0m \u001b[1;32mimport\u001b[0m \u001b[0mload_context\u001b[0m\u001b[1;33m\u001b[0m\u001b[1;33m\u001b[0m\u001b[0m\n\u001b[0;32m     16\u001b[0m \u001b[1;33m\u001b[0m\u001b[0m\n\u001b[1;32m---> 17\u001b[1;33m         \u001b[0mcontext\u001b[0m \u001b[1;33m=\u001b[0m \u001b[0mload_context\u001b[0m\u001b[1;33m(\u001b[0m\u001b[0mproject_path\u001b[0m\u001b[1;33m)\u001b[0m\u001b[1;33m\u001b[0m\u001b[1;33m\u001b[0m\u001b[0m\n\u001b[0m\u001b[0;32m     18\u001b[0m         \u001b[0mcatalog\u001b[0m \u001b[1;33m=\u001b[0m \u001b[0mcontext\u001b[0m\u001b[1;33m.\u001b[0m\u001b[0mcatalog\u001b[0m\u001b[1;33m\u001b[0m\u001b[1;33m\u001b[0m\u001b[0m\n\u001b[0;32m     19\u001b[0m         \u001b[0mlogging\u001b[0m\u001b[1;33m.\u001b[0m\u001b[0minfo\u001b[0m\u001b[1;33m(\u001b[0m\u001b[1;34m\"** Kedro project {}\"\u001b[0m\u001b[1;33m.\u001b[0m\u001b[0mformat\u001b[0m\u001b[1;33m(\u001b[0m\u001b[0mcontext\u001b[0m\u001b[1;33m.\u001b[0m\u001b[0mproject_name\u001b[0m\u001b[1;33m)\u001b[0m\u001b[1;33m)\u001b[0m\u001b[1;33m\u001b[0m\u001b[1;33m\u001b[0m\u001b[0m\n",
      "\u001b[1;32m~\\Continuum\\miniconda3\\envs\\kedro\\lib\\site-packages\\kedro\\context\\context.py\u001b[0m in \u001b[0;36mload_context\u001b[1;34m(project_path, **kwargs)\u001b[0m\n\u001b[0;32m    513\u001b[0m         )\n\u001b[0;32m    514\u001b[0m \u001b[1;33m\u001b[0m\u001b[0m\n\u001b[1;32m--> 515\u001b[1;33m     \u001b[0mcontext_class\u001b[0m \u001b[1;33m=\u001b[0m \u001b[0mload_obj\u001b[0m\u001b[1;33m(\u001b[0m\u001b[0mcontext_path\u001b[0m\u001b[1;33m)\u001b[0m\u001b[1;33m\u001b[0m\u001b[1;33m\u001b[0m\u001b[0m\n\u001b[0m\u001b[0;32m    516\u001b[0m \u001b[1;33m\u001b[0m\u001b[0m\n\u001b[0;32m    517\u001b[0m     \u001b[1;32mif\u001b[0m \u001b[0mos\u001b[0m\u001b[1;33m.\u001b[0m\u001b[0mgetcwd\u001b[0m\u001b[1;33m(\u001b[0m\u001b[1;33m)\u001b[0m \u001b[1;33m!=\u001b[0m \u001b[0mstr\u001b[0m\u001b[1;33m(\u001b[0m\u001b[0mproject_path\u001b[0m\u001b[1;33m)\u001b[0m\u001b[1;33m:\u001b[0m\u001b[1;33m\u001b[0m\u001b[1;33m\u001b[0m\u001b[0m\n",
      "\u001b[1;32m~\\Continuum\\miniconda3\\envs\\kedro\\lib\\site-packages\\kedro\\utils.py\u001b[0m in \u001b[0;36mload_obj\u001b[1;34m(obj_path, default_obj_path)\u001b[0m\n\u001b[0;32m     51\u001b[0m     \u001b[0mobj_path\u001b[0m \u001b[1;33m=\u001b[0m \u001b[0mobj_path_list\u001b[0m\u001b[1;33m.\u001b[0m\u001b[0mpop\u001b[0m\u001b[1;33m(\u001b[0m\u001b[1;36m0\u001b[0m\u001b[1;33m)\u001b[0m \u001b[1;32mif\u001b[0m \u001b[0mlen\u001b[0m\u001b[1;33m(\u001b[0m\u001b[0mobj_path_list\u001b[0m\u001b[1;33m)\u001b[0m \u001b[1;33m>\u001b[0m \u001b[1;36m1\u001b[0m \u001b[1;32melse\u001b[0m \u001b[0mdefault_obj_path\u001b[0m\u001b[1;33m\u001b[0m\u001b[1;33m\u001b[0m\u001b[0m\n\u001b[0;32m     52\u001b[0m     \u001b[0mobj_name\u001b[0m \u001b[1;33m=\u001b[0m \u001b[0mobj_path_list\u001b[0m\u001b[1;33m[\u001b[0m\u001b[1;36m0\u001b[0m\u001b[1;33m]\u001b[0m\u001b[1;33m\u001b[0m\u001b[1;33m\u001b[0m\u001b[0m\n\u001b[1;32m---> 53\u001b[1;33m     \u001b[0mmodule_obj\u001b[0m \u001b[1;33m=\u001b[0m \u001b[0mimportlib\u001b[0m\u001b[1;33m.\u001b[0m\u001b[0mimport_module\u001b[0m\u001b[1;33m(\u001b[0m\u001b[0mobj_path\u001b[0m\u001b[1;33m)\u001b[0m\u001b[1;33m\u001b[0m\u001b[1;33m\u001b[0m\u001b[0m\n\u001b[0m\u001b[0;32m     54\u001b[0m     \u001b[1;32mif\u001b[0m \u001b[1;32mnot\u001b[0m \u001b[0mhasattr\u001b[0m\u001b[1;33m(\u001b[0m\u001b[0mmodule_obj\u001b[0m\u001b[1;33m,\u001b[0m \u001b[0mobj_name\u001b[0m\u001b[1;33m)\u001b[0m\u001b[1;33m:\u001b[0m\u001b[1;33m\u001b[0m\u001b[1;33m\u001b[0m\u001b[0m\n\u001b[0;32m     55\u001b[0m         raise AttributeError(\n",
      "\u001b[1;32m~\\Continuum\\miniconda3\\envs\\kedro\\lib\\importlib\\__init__.py\u001b[0m in \u001b[0;36mimport_module\u001b[1;34m(name, package)\u001b[0m\n\u001b[0;32m    124\u001b[0m                 \u001b[1;32mbreak\u001b[0m\u001b[1;33m\u001b[0m\u001b[1;33m\u001b[0m\u001b[0m\n\u001b[0;32m    125\u001b[0m             \u001b[0mlevel\u001b[0m \u001b[1;33m+=\u001b[0m \u001b[1;36m1\u001b[0m\u001b[1;33m\u001b[0m\u001b[1;33m\u001b[0m\u001b[0m\n\u001b[1;32m--> 126\u001b[1;33m     \u001b[1;32mreturn\u001b[0m \u001b[0m_bootstrap\u001b[0m\u001b[1;33m.\u001b[0m\u001b[0m_gcd_import\u001b[0m\u001b[1;33m(\u001b[0m\u001b[0mname\u001b[0m\u001b[1;33m[\u001b[0m\u001b[0mlevel\u001b[0m\u001b[1;33m:\u001b[0m\u001b[1;33m]\u001b[0m\u001b[1;33m,\u001b[0m \u001b[0mpackage\u001b[0m\u001b[1;33m,\u001b[0m \u001b[0mlevel\u001b[0m\u001b[1;33m)\u001b[0m\u001b[1;33m\u001b[0m\u001b[1;33m\u001b[0m\u001b[0m\n\u001b[0m\u001b[0;32m    127\u001b[0m \u001b[1;33m\u001b[0m\u001b[0m\n\u001b[0;32m    128\u001b[0m \u001b[1;33m\u001b[0m\u001b[0m\n",
      "\u001b[1;32m~\\Continuum\\miniconda3\\envs\\kedro\\lib\\importlib\\_bootstrap.py\u001b[0m in \u001b[0;36m_gcd_import\u001b[1;34m(name, package, level)\u001b[0m\n",
      "\u001b[1;32m~\\Continuum\\miniconda3\\envs\\kedro\\lib\\importlib\\_bootstrap.py\u001b[0m in \u001b[0;36m_find_and_load\u001b[1;34m(name, import_)\u001b[0m\n",
      "\u001b[1;32m~\\Continuum\\miniconda3\\envs\\kedro\\lib\\importlib\\_bootstrap.py\u001b[0m in \u001b[0;36m_find_and_load_unlocked\u001b[1;34m(name, import_)\u001b[0m\n",
      "\u001b[1;32m~\\Continuum\\miniconda3\\envs\\kedro\\lib\\importlib\\_bootstrap.py\u001b[0m in \u001b[0;36m_load_unlocked\u001b[1;34m(spec)\u001b[0m\n",
      "\u001b[1;32m~\\Continuum\\miniconda3\\envs\\kedro\\lib\\importlib\\_bootstrap_external.py\u001b[0m in \u001b[0;36mexec_module\u001b[1;34m(self, module)\u001b[0m\n",
      "\u001b[1;32m~\\Continuum\\miniconda3\\envs\\kedro\\lib\\importlib\\_bootstrap.py\u001b[0m in \u001b[0;36m_call_with_frames_removed\u001b[1;34m(f, *args, **kwds)\u001b[0m\n",
      "\u001b[1;32m~\\Projects\\kedro-tutorial\\src\\kedro_tutorial\\run.py\u001b[0m in \u001b[0;36m<module>\u001b[1;34m\u001b[0m\n\u001b[0;32m     37\u001b[0m \u001b[1;33m\u001b[0m\u001b[0m\n\u001b[0;32m     38\u001b[0m \u001b[1;32mfrom\u001b[0m \u001b[0mkedro_tutorial\u001b[0m\u001b[1;33m.\u001b[0m\u001b[0mpipeline\u001b[0m \u001b[1;32mimport\u001b[0m \u001b[0mcreate_pipelines\u001b[0m\u001b[1;33m\u001b[0m\u001b[1;33m\u001b[0m\u001b[0m\n\u001b[1;32m---> 39\u001b[1;33m \u001b[1;32mfrom\u001b[0m \u001b[0mkedro_tutorial\u001b[0m\u001b[1;33m.\u001b[0m\u001b[0mset_catalog\u001b[0m \u001b[1;32mimport\u001b[0m \u001b[0mconf_loader\u001b[0m\u001b[1;33m,\u001b[0m \u001b[0mconf_catalog\u001b[0m\u001b[1;33m\u001b[0m\u001b[1;33m\u001b[0m\u001b[0m\n\u001b[0m\u001b[0;32m     40\u001b[0m \u001b[1;33m\u001b[0m\u001b[0m\n\u001b[0;32m     41\u001b[0m \u001b[1;33m\u001b[0m\u001b[0m\n",
      "\u001b[1;32m~\\Projects\\kedro-tutorial\\src\\kedro_tutorial\\set_catalog.py\u001b[0m in \u001b[0;36m<module>\u001b[1;34m\u001b[0m\n\u001b[0;32m      3\u001b[0m \u001b[0mconf_paths\u001b[0m \u001b[1;33m=\u001b[0m \u001b[1;33m[\u001b[0m\u001b[1;34m'conf/base'\u001b[0m\u001b[1;33m,\u001b[0m \u001b[1;34m'conf/local'\u001b[0m\u001b[1;33m]\u001b[0m\u001b[1;33m\u001b[0m\u001b[1;33m\u001b[0m\u001b[0m\n\u001b[0;32m      4\u001b[0m \u001b[0mconf_loader\u001b[0m \u001b[1;33m=\u001b[0m \u001b[0mConfigLoader\u001b[0m\u001b[1;33m(\u001b[0m\u001b[0mconf_paths\u001b[0m\u001b[1;33m)\u001b[0m\u001b[1;33m\u001b[0m\u001b[1;33m\u001b[0m\u001b[0m\n\u001b[1;32m----> 5\u001b[1;33m \u001b[0mconf_catalog\u001b[0m \u001b[1;33m=\u001b[0m \u001b[0mconf_loader\u001b[0m\u001b[1;33m.\u001b[0m\u001b[0mget\u001b[0m\u001b[1;33m(\u001b[0m\u001b[1;34m'catalog*'\u001b[0m\u001b[1;33m,\u001b[0m \u001b[1;34m'catalog*/**'\u001b[0m\u001b[1;33m)\u001b[0m\u001b[1;33m\u001b[0m\u001b[1;33m\u001b[0m\u001b[0m\n\u001b[0m\u001b[0;32m      6\u001b[0m \u001b[1;33m\u001b[0m\u001b[0m\n",
      "\u001b[1;32m~\\Continuum\\miniconda3\\envs\\kedro\\lib\\site-packages\\kedro\\config\\config.py\u001b[0m in \u001b[0;36mget\u001b[1;34m(self, *patterns)\u001b[0m\n\u001b[0;32m    161\u001b[0m                 raise ValueError(\n\u001b[0;32m    162\u001b[0m                     \u001b[1;34m\"Given configuration path either does not exist \"\u001b[0m\u001b[1;33m\u001b[0m\u001b[1;33m\u001b[0m\u001b[0m\n\u001b[1;32m--> 163\u001b[1;33m                     \u001b[1;34m\"or is not a valid directory: {0}\"\u001b[0m\u001b[1;33m.\u001b[0m\u001b[0mformat\u001b[0m\u001b[1;33m(\u001b[0m\u001b[0mconf_path\u001b[0m\u001b[1;33m)\u001b[0m\u001b[1;33m\u001b[0m\u001b[1;33m\u001b[0m\u001b[0m\n\u001b[0m\u001b[0;32m    164\u001b[0m                 )\n\u001b[0;32m    165\u001b[0m \u001b[1;33m\u001b[0m\u001b[0m\n",
      "\u001b[1;31mValueError\u001b[0m: Given configuration path either does not exist or is not a valid directory: conf/base"
     ]
    }
   ],
   "source": [
    "%reload_kedro"
   ]
  },
  {
   "cell_type": "code",
   "execution_count": 1,
   "metadata": {},
   "outputs": [
    {
     "ename": "NameError",
     "evalue": "name 'context' is not defined",
     "output_type": "error",
     "traceback": [
      "\u001b[1;31m---------------------------------------------------------------------------\u001b[0m",
      "\u001b[1;31mNameError\u001b[0m                                 Traceback (most recent call last)",
      "\u001b[1;32m<ipython-input-1-ab9cde5e3727>\u001b[0m in \u001b[0;36m<module>\u001b[1;34m\u001b[0m\n\u001b[1;32m----> 1\u001b[1;33m \u001b[0mcontext\u001b[0m\u001b[1;33m\u001b[0m\u001b[1;33m\u001b[0m\u001b[0m\n\u001b[0m",
      "\u001b[1;31mNameError\u001b[0m: name 'context' is not defined"
     ]
    }
   ],
   "source": [
    "context"
   ]
  },
  {
   "cell_type": "code",
   "execution_count": 2,
   "metadata": {},
   "outputs": [
    {
     "data": {
      "text/plain": [
       "dict_keys(['de', 'ds', '__default__'])"
      ]
     },
     "execution_count": 2,
     "metadata": {},
     "output_type": "execute_result"
    }
   ],
   "source": [
    "context.pipelines.keys()"
   ]
  },
  {
   "cell_type": "code",
   "execution_count": 3,
   "metadata": {},
   "outputs": [
    {
     "data": {
      "text/plain": [
       "{'de': Pipeline([\n",
       " Node(preprocess_companies, 'companies', 'preprocessed_companies', 'preprocess1'),\n",
       " Node(preprocess_shuttles, 'shuttles', 'preprocessed_shuttles', 'preprocess2'),\n",
       " Node(create_master_table, ['preprocessed_shuttles', 'preprocessed_companies', 'reviews'], 'master_table', 'master_table')\n",
       " ],\n",
       " name='de_tag'), 'ds': Pipeline([\n",
       " Node(split_data, ['master_table', 'params:test_size', 'params:random_state'], ['X_train', 'X_test', 'y_train', 'y_test'], None),\n",
       " Node(train_model, ['X_train', 'y_train'], 'regressor', None),\n",
       " Node(evaluate_model, ['regressor', 'X_test', 'y_test'], None, None)\n",
       " ],\n",
       " name='ds_tag'), '__default__': Pipeline([\n",
       " Node(preprocess_companies, 'companies', 'preprocessed_companies', 'preprocess1'),\n",
       " Node(preprocess_shuttles, 'shuttles', 'preprocessed_shuttles', 'preprocess2'),\n",
       " Node(create_master_table, ['preprocessed_shuttles', 'preprocessed_companies', 'reviews'], 'master_table', 'master_table'),\n",
       " Node(split_data, ['master_table', 'params:test_size', 'params:random_state'], ['X_train', 'X_test', 'y_train', 'y_test'], None),\n",
       " Node(train_model, ['X_train', 'y_train'], 'regressor', None),\n",
       " Node(evaluate_model, ['regressor', 'X_test', 'y_test'], None, None)\n",
       " ])}"
      ]
     },
     "execution_count": 3,
     "metadata": {},
     "output_type": "execute_result"
    }
   ],
   "source": [
    "context.pipelines"
   ]
  },
  {
   "cell_type": "code",
   "execution_count": 6,
   "metadata": {},
   "outputs": [
    {
     "name": "stdout",
     "output_type": "stream",
     "text": [
      "#### Pipeline execution order ####\n",
      "Name: None\n",
      "Inputs: companies, shuttles\n",
      "\n",
      "preprocess1\n",
      "preprocess2\n",
      "\n",
      "Outputs: preprocessed_companies, preprocessed_shuttles\n",
      "##################################\n"
     ]
    }
   ],
   "source": [
    "print(context.pipeline.only_nodes_with_tags('stage1').describe())"
   ]
  },
  {
   "cell_type": "code",
   "execution_count": 7,
   "metadata": {},
   "outputs": [
    {
     "data": {
      "text/plain": [
       "{'master_table'}"
      ]
     },
     "execution_count": 7,
     "metadata": {},
     "output_type": "execute_result"
    }
   ],
   "source": [
    "context.pipeline.only_nodes_with_tags('stage2').outputs()"
   ]
  },
  {
   "cell_type": "code",
   "execution_count": 30,
   "metadata": {},
   "outputs": [
    {
     "name": "stdout",
     "output_type": "stream",
     "text": [
      "#### Pipeline execution order ####\n",
      "Name: None\n",
      "Inputs: companies, reviews, shuttles\n",
      "\n",
      "preprocess1\n",
      "preprocess2\n",
      "master_table\n",
      "\n",
      "Outputs: master_table\n",
      "##################################\n"
     ]
    }
   ],
   "source": [
    "print(context.pipeline.only_nodes_with_tags('stage1', 'stage2').describe())"
   ]
  },
  {
   "cell_type": "code",
   "execution_count": 8,
   "metadata": {},
   "outputs": [],
   "source": [
    "from kedro.runner.sequential_runner import SequentialRunner"
   ]
  },
  {
   "cell_type": "code",
   "execution_count": 9,
   "metadata": {},
   "outputs": [
    {
     "name": "stdout",
     "output_type": "stream",
     "text": [
      "2019-10-22 10:15:46,545 - kedro.io.data_catalog - INFO - Loading data from `companies` (CSVLocalDataSet)...\n",
      "2019-10-22 10:15:46,672 - kedro.pipeline.node - INFO - Running node: preprocess1: preprocess_companies([companies]) -> [preprocessed_companies]\n",
      "2019-10-22 10:15:46,821 - kedro_tutorial.nodes.data_engineering - INFO - Running 'preprocess_companies' took 0.14 seconds\n",
      "2019-10-22 10:15:46,824 - kedro.io.data_catalog - INFO - Saving data to `preprocessed_companies` (CSVLocalDataSet)...\n",
      "2019-10-22 10:15:47,526 - kedro.runner.sequential_runner - INFO - Completed 1 out of 2 tasks\n",
      "2019-10-22 10:15:47,532 - kedro.io.data_catalog - INFO - Loading data from `shuttles` (ExcelLocalDataSet)...\n",
      "2019-10-22 10:16:09,214 - kedro.pipeline.node - INFO - Running node: preprocess2: preprocess_shuttles([shuttles]) -> [preprocessed_shuttles]\n",
      "2019-10-22 10:16:09,397 - kedro_tutorial.nodes.data_engineering - INFO - Running 'preprocess_shuttles' took 0.18 seconds\n",
      "2019-10-22 10:16:09,399 - kedro.io.data_catalog - INFO - Saving data to `preprocessed_shuttles` (CSVLocalDataSet)...\n",
      "2019-10-22 10:16:11,028 - kedro.runner.sequential_runner - INFO - Completed 2 out of 2 tasks\n",
      "2019-10-22 10:16:11,035 - kedro.runner.sequential_runner - INFO - Pipeline execution completed successfully.\n"
     ]
    },
    {
     "data": {
      "text/plain": [
       "{}"
      ]
     },
     "execution_count": 9,
     "metadata": {},
     "output_type": "execute_result"
    }
   ],
   "source": [
    "runner = SequentialRunner()\n",
    "runner.run(context.pipeline.only_nodes_with_tags('stage1'), catalog = context.catalog)"
   ]
  },
  {
   "cell_type": "code",
   "execution_count": 27,
   "metadata": {},
   "outputs": [
    {
     "data": {
      "text/plain": [
       "['companies',\n",
       " 'reviews',\n",
       " 'shuttles',\n",
       " 'preprocessed_companies',\n",
       " 'preprocessed_shuttles',\n",
       " 'master_table',\n",
       " 'X_train',\n",
       " 'X_test',\n",
       " 'y_train',\n",
       " 'y_test',\n",
       " 'regressor',\n",
       " 'parameters',\n",
       " 'params:test_size',\n",
       " 'params:random_state']"
      ]
     },
     "execution_count": 27,
     "metadata": {},
     "output_type": "execute_result"
    }
   ],
   "source": [
    "context.catalog.list()"
   ]
  },
  {
   "cell_type": "code",
   "execution_count": 32,
   "metadata": {},
   "outputs": [
    {
     "name": "stdout",
     "output_type": "stream",
     "text": [
      "#### Pipeline execution order ####\n",
      "Name: None\n",
      "Inputs: companies, shuttles\n",
      "\n",
      "preprocess1\n",
      "preprocess2\n",
      "\n",
      "Outputs: preprocessed_companies, preprocessed_shuttles\n",
      "##################################\n"
     ]
    }
   ],
   "source": [
    "print(context.pipeline.only_nodes('preprocess1', 'preprocess2').describe())"
   ]
  },
  {
   "cell_type": "code",
   "execution_count": 1,
   "metadata": {},
   "outputs": [
    {
     "name": "stdout",
     "output_type": "stream",
     "text": [
      "2019-10-22 08:36:28,122 - root - INFO - ** Kedro project kedro-tutorial\n",
      "2019-10-22 08:36:28,363 - kedro.versioning.journal - WARNING - Unable to git describe C:\\Users\\javier.bosch\\Projects\\kedro-tutorial\n",
      "2019-10-22 08:36:28,382 - kedro.io.data_catalog - INFO - Loading data from `companies` (CSVLocalDataSet)...\n",
      "2019-10-22 08:36:28,441 - kedro.pipeline.node - INFO - Running node: preprocess1: preprocess_companies([companies]) -> [preprocessed_companies]\n",
      "2019-10-22 08:36:28,513 - kedro_tutorial.nodes.data_engineering - INFO - Running 'preprocess_companies' took 0.07 seconds\n",
      "2019-10-22 08:36:28,515 - kedro.io.data_catalog - INFO - Saving data to `preprocessed_companies` (CSVLocalDataSet)...\n",
      "2019-10-22 08:36:28,871 - kedro.runner.sequential_runner - INFO - Completed 1 out of 2 tasks\n",
      "2019-10-22 08:36:28,874 - kedro.io.data_catalog - INFO - Loading data from `shuttles` (ExcelLocalDataSet)...\n",
      "2019-10-22 08:36:41,190 - kedro.pipeline.node - INFO - Running node: preprocess2: preprocess_shuttles([shuttles]) -> [preprocessed_shuttles]\n",
      "2019-10-22 08:36:41,292 - kedro_tutorial.nodes.data_engineering - INFO - Running 'preprocess_shuttles' took 0.10 seconds\n",
      "2019-10-22 08:36:41,294 - kedro.io.data_catalog - INFO - Saving data to `preprocessed_shuttles` (CSVLocalDataSet)...\n",
      "2019-10-22 08:36:42,118 - kedro.runner.sequential_runner - INFO - Completed 2 out of 2 tasks\n",
      "2019-10-22 08:36:42,121 - kedro.runner.sequential_runner - INFO - Pipeline execution completed successfully.\n"
     ]
    },
    {
     "data": {
      "text/plain": [
       "{}"
      ]
     },
     "execution_count": 1,
     "metadata": {},
     "output_type": "execute_result"
    }
   ],
   "source": [
    "context.run(tags = ['stage1'])"
   ]
  },
  {
   "cell_type": "code",
   "execution_count": 1,
   "metadata": {},
   "outputs": [],
   "source": [
    "from kedro_tutorial.pipelines import de_pipeline"
   ]
  },
  {
   "cell_type": "code",
   "execution_count": 2,
   "metadata": {},
   "outputs": [
    {
     "data": {
      "text/plain": [
       "<bound method Pipeline.all_inputs of Pipeline([\n",
       "Node(preprocess_companies, 'companies', 'preprocessed_companies', 'preprocess1'),\n",
       "Node(preprocess_shuttles, 'shuttles', 'preprocessed_shuttles', 'preprocess2'),\n",
       "Node(create_master_table, ['preprocessed_shuttles', 'preprocessed_companies', 'reviews'], 'master_table', 'master_table')\n",
       "],\n",
       "name='de_tag')>"
      ]
     },
     "execution_count": 2,
     "metadata": {},
     "output_type": "execute_result"
    }
   ],
   "source": [
    "de_pipeline.de_pipeline.all_inputs"
   ]
  },
  {
   "cell_type": "code",
   "execution_count": 3,
   "metadata": {},
   "outputs": [
    {
     "name": "stdout",
     "output_type": "stream",
     "text": [
      "#### Pipeline execution order ####\n",
      "Name: de_tag\n",
      "Inputs: companies, reviews, shuttles\n",
      "\n",
      "preprocess1\n",
      "preprocess2\n",
      "master_table\n",
      "\n",
      "Outputs: master_table\n",
      "##################################\n"
     ]
    }
   ],
   "source": [
    "print(de_pipeline.de_pipeline.describe())"
   ]
  },
  {
   "cell_type": "code",
   "execution_count": null,
   "metadata": {},
   "outputs": [],
   "source": []
  }
 ],
 "metadata": {
  "kernelspec": {
   "display_name": "Python 3",
   "language": "python",
   "name": "python3"
  },
  "language_info": {
   "codemirror_mode": {
    "name": "ipython",
    "version": 3
   },
   "file_extension": ".py",
   "mimetype": "text/x-python",
   "name": "python",
   "nbconvert_exporter": "python",
   "pygments_lexer": "ipython3",
   "version": "3.6.9"
  }
 },
 "nbformat": 4,
 "nbformat_minor": 2
}
